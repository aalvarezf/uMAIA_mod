{
 "cells": [
  {
   "cell_type": "markdown",
   "metadata": {},
   "source": [
    "# MAIA Overview\n",
    "\n",
    "This tutorial would introduce you on the usage of MAIA, a toolbox designed for processing and analysis of MALDI-MSI data. \n",
    "\n",
    "The whole pipeline of MAIA is consisted of 3 parts as the following figure suggests:\n",
    "\n",
    "\n",
    "<div>\n",
    "<center>\n",
    "<img src=\"figs/MAIA workflow.png\" width=\"800\">\n",
    "</center>\n",
    "</div>"
   ]
  },
  {
   "cell_type": "markdown",
   "metadata": {},
   "source": [
    "MAIA package is consisted of 3 main modules, namely <code>peak_finding (pf)</code>, <code>molecular_matcher (mm)</code> and <code>normalizer (norm)</code>. In addition to that there are two other modules to help with loading the data in different stages and visualization, namely <code>utils (ut)</code> and <code>visualize (vis)</code>."
   ]
  },
  {
   "cell_type": "code",
   "execution_count": 1,
   "metadata": {},
   "outputs": [],
   "source": [
    "import MAIA\n",
    "import warnings\n",
    "warnings.filterwarnings(\"ignore\")"
   ]
  },
  {
   "cell_type": "markdown",
   "metadata": {},
   "source": [
    "## Step 1: Image Extraction using adaptive Peak Finder"
   ]
  },
  {
   "cell_type": "markdown",
   "metadata": {},
   "source": [
    "***MAIA*** identifies more molecules than other freely-available software, imaging them automatically with higher quality."
   ]
  },
  {
   "cell_type": "markdown",
   "metadata": {},
   "source": [
    "To load the raw data you need to specify the path to the **IBD** and **imzml** files, which contain the raw output of MALDI mass spectrometer and the correspoding metadata."
   ]
  },
  {
   "cell_type": "code",
   "execution_count": 2,
   "metadata": {},
   "outputs": [
    {
     "name": "stderr",
     "output_type": "stream",
     "text": [
      "Loading Spectra at resolution 0.0001: 100%|█████████████████████████████████████████████████| 30399/30399 [00:02<00:00, 12371.77it/s]\n",
      "Loading the m/z values at resolution 0.0001: 30399it [00:01, 18247.95it/s]\n"
     ]
    }
   ],
   "source": [
    "path = '/data/SV_DAngelo/Leila/MALDI-MSI/MAIA_zebrafish/Atlases/Controls_timepoints/8hpf/'\n",
    "section = '20230639_Zebrafish_ctrl_cl5_8hpf_section_9_167x182_Att35_5um'\n",
    "\n",
    "smz = MAIA.utils.SmzMLobj(f'{path+section}/{section}.IBD',\n",
    "                           f'{path+section}/{section}.imzml',\n",
    "                           mz_resolution=10e-5)\n",
    "\n",
    "smz.load(load_unique_mz=True)"
   ]
  },
  {
   "cell_type": "code",
   "execution_count": 3,
   "metadata": {},
   "outputs": [
    {
     "name": "stderr",
     "output_type": "stream",
     "text": [
      "23340it [12:14, 31.77it/s]\n"
     ]
    },
    {
     "ename": "KeyboardInterrupt",
     "evalue": "",
     "output_type": "error",
     "traceback": [
      "\u001b[0;31m---------------------------------------------------------------------------\u001b[0m",
      "\u001b[0;31mKeyboardInterrupt\u001b[0m                         Traceback (most recent call last)",
      "Cell \u001b[0;32mIn[3], line 1\u001b[0m\n\u001b[0;32m----> 1\u001b[0m smz\u001b[38;5;241m.\u001b[39mS\n",
      "File \u001b[0;32m~/MAIA/MAIA/utils/mspec.py:812\u001b[0m, in \u001b[0;36mSmzMLobj.S\u001b[0;34m(self)\u001b[0m\n\u001b[1;32m    809\u001b[0m \u001b[38;5;129m@property\u001b[39m\n\u001b[1;32m    810\u001b[0m \u001b[38;5;28;01mdef\u001b[39;00m \u001b[38;5;21mS\u001b[39m(\u001b[38;5;28mself\u001b[39m) \u001b[38;5;241m-\u001b[39m\u001b[38;5;241m>\u001b[39m sparse\u001b[38;5;241m.\u001b[39mlil_matrix:\n\u001b[1;32m    811\u001b[0m     \u001b[38;5;28;01mif\u001b[39;00m \u001b[38;5;28mself\u001b[39m\u001b[38;5;241m.\u001b[39m_I \u001b[38;5;129;01mis\u001b[39;00m \u001b[38;5;28;01mNone\u001b[39;00m:\n\u001b[0;32m--> 812\u001b[0m         \u001b[38;5;28mself\u001b[39m\u001b[38;5;241m.\u001b[39m_I \u001b[38;5;241m=\u001b[39m \u001b[38;5;28mself\u001b[39m\u001b[38;5;241m.\u001b[39m_generate_sparse_intensities()\n\u001b[1;32m    813\u001b[0m         \u001b[38;5;28;01mreturn\u001b[39;00m \u001b[38;5;28mself\u001b[39m\u001b[38;5;241m.\u001b[39m_I\n\u001b[1;32m    814\u001b[0m     \u001b[38;5;28;01melif\u001b[39;00m sparse\u001b[38;5;241m.\u001b[39missparse(\u001b[38;5;28mself\u001b[39m\u001b[38;5;241m.\u001b[39m_I):\n",
      "File \u001b[0;32m~/MAIA/MAIA/utils/mspec.py:783\u001b[0m, in \u001b[0;36mSmzMLobj._generate_sparse_intensities\u001b[0;34m(self)\u001b[0m\n\u001b[1;32m    781\u001b[0m \u001b[38;5;66;03m#indices = np.where(np.in1d(self.mz_vals, mz_sort))[0]\u001b[39;00m\n\u001b[1;32m    782\u001b[0m \u001b[38;5;28;01mtry\u001b[39;00m:\n\u001b[0;32m--> 783\u001b[0m     indices \u001b[38;5;241m=\u001b[39m np\u001b[38;5;241m.\u001b[39mwhere(\u001b[38;5;241m~\u001b[39misin_nb(\u001b[38;5;28mself\u001b[39m\u001b[38;5;241m.\u001b[39mmz_vals,mz_sort))[\u001b[38;5;241m0\u001b[39m]\n\u001b[1;32m    784\u001b[0m     \u001b[38;5;66;03m#indices = np.where(in1d_both_uniquesorted(self.mz_vals, mz_sort))[0]\u001b[39;00m\n\u001b[1;32m    785\u001b[0m     S[i, indices] \u001b[38;5;241m=\u001b[39m i_sort\n",
      "File \u001b[0;32m~/MAIA/MAIA/utils/mspec.py:192\u001b[0m, in \u001b[0;36misin_nb\u001b[0;34m(matrix_in, index_to_remove)\u001b[0m\n\u001b[1;32m    190\u001b[0m     res\u001b[38;5;241m=\u001b[39min1d_scal_nb(matrix_in\u001b[38;5;241m.\u001b[39mreshape(\u001b[38;5;241m-\u001b[39m\u001b[38;5;241m1\u001b[39m),index_to_remove\u001b[38;5;241m.\u001b[39mtake(\u001b[38;5;241m0\u001b[39m))\n\u001b[1;32m    191\u001b[0m \u001b[38;5;28;01melse\u001b[39;00m:\n\u001b[0;32m--> 192\u001b[0m     res\u001b[38;5;241m=\u001b[39min1d_vec_nb(matrix_in\u001b[38;5;241m.\u001b[39mreshape(\u001b[38;5;241m-\u001b[39m\u001b[38;5;241m1\u001b[39m),index_to_remove)\n\u001b[1;32m    194\u001b[0m \u001b[38;5;28;01mreturn\u001b[39;00m res\u001b[38;5;241m.\u001b[39mreshape(shape)\n",
      "File \u001b[0;32m~/miniconda3/envs/w_env/lib/python3.11/site-packages/numba/core/serialize.py:30\u001b[0m, in \u001b[0;36m_numba_unpickle\u001b[0;34m(address, bytedata, hashed)\u001b[0m\n\u001b[1;32m     26\u001b[0m \u001b[38;5;66;03m# Keep unpickled object via `numba_unpickle` alive.\u001b[39;00m\n\u001b[1;32m     27\u001b[0m _unpickled_memo \u001b[38;5;241m=\u001b[39m {}\n\u001b[0;32m---> 30\u001b[0m \u001b[38;5;28;01mdef\u001b[39;00m \u001b[38;5;21m_numba_unpickle\u001b[39m(address, bytedata, hashed):\n\u001b[1;32m     31\u001b[0m \u001b[38;5;250m    \u001b[39m\u001b[38;5;124;03m\"\"\"Used by `numba_unpickle` from _helperlib.c\u001b[39;00m\n\u001b[1;32m     32\u001b[0m \n\u001b[1;32m     33\u001b[0m \u001b[38;5;124;03m    Parameters\u001b[39;00m\n\u001b[0;32m   (...)\u001b[0m\n\u001b[1;32m     42\u001b[0m \u001b[38;5;124;03m        unpickled object\u001b[39;00m\n\u001b[1;32m     43\u001b[0m \u001b[38;5;124;03m    \"\"\"\u001b[39;00m\n\u001b[1;32m     44\u001b[0m     key \u001b[38;5;241m=\u001b[39m (address, hashed)\n",
      "\u001b[0;31mKeyboardInterrupt\u001b[0m: "
     ]
    }
   ],
   "source": [
    "smz.S"
   ]
  },
  {
   "cell_type": "markdown",
   "metadata": {},
   "source": [
    "You can visualize the raw frequencies of mass-to-charge ratios as well:"
   ]
  },
  {
   "cell_type": "code",
   "execution_count": null,
   "metadata": {},
   "outputs": [],
   "source": [
    "mz_resolution = 0.0001\n",
    "threshold_count = 8.\n",
    "approximate_interval =1.5\n",
    "smoothing = 1. #2.5\n",
    "\n",
    "mzrange_test = np.array([620.4,620.8])\n",
    "\n",
    "PF = MAIA.vis.plot_freqmz(smz, \n",
    "                          mzrange_test, \n",
    "                          bins=True,\n",
    "                          smoothing=smoothing, \n",
    "                          ylim=3000, \n",
    "                          threshold_count=threshold_count, \n",
    "                          approximate_interval=approximate_interval,\n",
    "                          parallelize=True, \n",
    "                          mz_resolution=mz_resolution)\n",
    "\n",
    "for m in PF.data_mz[PF.seeds]:\n",
    "    plt.vlines(m, 0,1000,linestyle='--', color='r')"
   ]
  },
  {
   "cell_type": "markdown",
   "metadata": {},
   "source": [
    "To identify the molecules you need to run the MAIA peak finder by specifiying the corresponding hyperparameters.\n",
    "\n",
    "The output of the peak finder are the <code>images.h5ad</code> and <code>ranges.csv</code> files, which are then saved in the specified directory path."
   ]
  },
  {
   "cell_type": "code",
   "execution_count": 3,
   "metadata": {},
   "outputs": [
    {
     "ename": "NameError",
     "evalue": "name 'MAIA' is not defined",
     "output_type": "error",
     "traceback": [
      "\u001b[0;31m---------------------------------------------------------------------------\u001b[0m",
      "\u001b[0;31mNameError\u001b[0m                                 Traceback (most recent call last)",
      "Cell \u001b[0;32mIn[3], line 6\u001b[0m\n\u001b[1;32m      3\u001b[0m approximate_interval \u001b[38;5;241m=\u001b[39m\u001b[38;5;241m1.5\u001b[39m\n\u001b[1;32m      4\u001b[0m smoothing \u001b[38;5;241m=\u001b[39m \u001b[38;5;241m1.\u001b[39m\n\u001b[0;32m----> 6\u001b[0m MAIA\u001b[38;5;241m.\u001b[39mpf\u001b[38;5;241m.\u001b[39mrun(directory_path\u001b[38;5;241m=\u001b[39m\u001b[38;5;124mf\u001b[39m\u001b[38;5;124m'\u001b[39m\u001b[38;5;132;01m{\u001b[39;00mpath\u001b[38;5;132;01m}\u001b[39;00m\u001b[38;5;132;01m{\u001b[39;00msection\u001b[38;5;132;01m}\u001b[39;00m\u001b[38;5;124m/CHECK/\u001b[39m\u001b[38;5;124m'\u001b[39m,\n\u001b[1;32m      7\u001b[0m                 smz\u001b[38;5;241m=\u001b[39msmz, spectrum_range\u001b[38;5;241m=\u001b[39m(\u001b[38;5;241m400\u001b[39m,\u001b[38;5;241m1200\u001b[39m), threshold_count\u001b[38;5;241m=\u001b[39mthreshold_count, \n\u001b[1;32m      8\u001b[0m                 approximate_interval\u001b[38;5;241m=\u001b[39mapproximate_interval, parallelize\u001b[38;5;241m=\u001b[39m\u001b[38;5;28;01mTrue\u001b[39;00m, smoothing\u001b[38;5;241m=\u001b[39msmoothing, saveimages\u001b[38;5;241m=\u001b[39m\u001b[38;5;28;01mTrue\u001b[39;00m)\n",
      "\u001b[0;31mNameError\u001b[0m: name 'MAIA' is not defined"
     ]
    }
   ],
   "source": [
    "MAIA.pf.run(directory_path=f'{path}{section}/CHECK/',\n",
    "            smz=smz, \n",
    "            spectrum_range=(400,1200),\n",
    "            threshold_count=threshold_count, \n",
    "            approximate_interval=approximate_interval,\n",
    "            smoothing=smoothing,\n",
    "            parallelize=True,\n",
    "            saveimages=True)"
   ]
  },
  {
   "cell_type": "markdown",
   "metadata": {},
   "source": [
    "## Step 2: Molecule Matching"
   ]
  },
  {
   "cell_type": "markdown",
   "metadata": {},
   "source": [
    "***MAIA*** retrieves identical molecules across acquistions without ambiguity."
   ]
  },
  {
   "cell_type": "code",
   "execution_count": null,
   "metadata": {},
   "outputs": [],
   "source": []
  },
  {
   "cell_type": "markdown",
   "metadata": {},
   "source": [
    "## Step 3: Normalization"
   ]
  },
  {
   "cell_type": "markdown",
   "metadata": {},
   "source": [
    "***MAIA*** normalizes images by fitting a Bayesian model that accounts for different sources of noise in a regularized way and allows a conservative non-linear rescaling of intensity values such that qualifications can be properly compared across sections."
   ]
  },
  {
   "cell_type": "code",
   "execution_count": 2,
   "metadata": {},
   "outputs": [],
   "source": [
    "# developmental timepoints 8/24/48/72\n",
    "acquisitions = [\n",
    "    # --------- fish 1: 8h --------- #\n",
    "    # 'Atlas_8hpf1/20221014_Zebrafish_8hpf_fish1_section30_215x230_Att35_5um',\n",
    "    # 'Atlas_8hpf1/20221013_Zebrafish_8hpf_fish1_section28_214x214_Att35_5um',\n",
    "    # 'Atlas_8hpf1/20221010_Zebrafish_8hpf_fish1_section23_192x202_Att35_5um',\n",
    "    '20221008_Zebrafish_8hpf_fish1_section18_194x170_Att35_5um',\n",
    "    '20221002_Zebrafish_8hpf_fish1_section_16_192x190_Att35_5um',\n",
    "    '20221002_Zebrafish_8hpf_fish1_section_14_154x148_Att35_5um',\n",
    "    # 'Atlas_8hpf1/20221001_Zebrafish_8hpf_fish1_section_10_154x142_Att35_5um',\n",
    "    \n",
    "    # --------- fish 2: 8h --------- #\n",
    "    #'Atlas_8hpf2/20221008_Zebrafish_8hpf_fish2_section9_130x134_Att35_5um',\n",
    "    #'Atlas_8hpf2/20221003_Zebrafish_8hpf_fish2_section_7_140x122_Att35_5um',\n",
    "    \n",
    "    \n",
    "    # --------- fish 1: 24h --------- #\n",
    "    # 'Atlas_24h/20220408_Zebrafish_atlas_24h_fish1_section17_175x155_Att35_7um',\n",
    "    # 'Atlas_24h/20220407_Zebrafish_atlas_24h_fish1_section30_167x134_Att35_7um',\n",
    "    '20220407_Zebrafish_atlas_24h_fish1_section28_131x124_Att35_7um',\n",
    "    '20220407_Zebrafish_atlas_24h_fish1_section26_141x140_Att35_7um',\n",
    "    '20220406_Zebrafish_atlas_24h_fish1_section24_140x145_Att35_7um',\n",
    "    # 'Atlas_24h/20220405_Zebrafish_atlas_24h_fish1_section20_157x142_Att35_7um',\n",
    "    # 'Atlas_24h/20220406_Zebrafish_atlas_24h_fish1_section22_151x150_Att35_7um',\n",
    "    # 'Atlas_24h/20220402_Zebrafish_atlas_24h_fish1_section16_228x154_Att35_7um',\n",
    "    \n",
    "    # --------- fish 2: 24h --------- #\n",
    "    #'Atlas_24h/20220928_Zebrafish_atlas_24hpf_fish2_section26_256x126_Att35_7um',\n",
    "    #'Atlas_24h/20220927_Zebrafish_atlas_24hpf_fish2_section18_284x125_Att35_7um',\n",
    "    #'Atlas_24h/20220927_Zebrafish_atlas_24hpf_fish2_section10_141x128_Att35_7um',\n",
    "    #'Atlas_24h/20220926_Zebrafish_atlas_24hpf_fish2_section2_131x124_Att35_7um',\n",
    "    \n",
    "    \n",
    "    # --------- fish 1: 48h --------- #\n",
    "    #'Atlas_48h/11022022_Zebrafish_atlas_section19_Att35_353x141_7um',\n",
    "    #'Atlas_48h/20022022_Zebrafish_atlas_section23_313x107_Att35_7um',\n",
    "    #'Atlas_48h/20022022_Zebrafish_atlas_section25_334x110_Att35_7um',\n",
    "    \n",
    "    # --------- fish 2: 48h --------- #\n",
    "    '20220928_Zebrafish_atlas_48hpf_fish3_section18_332x133_Att35_7um',\n",
    "    # 'Atlas_48hpf_fish2/20220330_Zebrafish_atlas_48h_fish2_section29_150x114_Att35_7um',\n",
    "    '20220329_Zebrafish_atlas_48h_fish2_section24_377x145_Att35_7um',\n",
    "    # 'Atlas_48hpf_fish2/20220328_Zebrafish_atlas_48h_fish2_section26_200x135_Att35_7um',\n",
    "    # 'Atlas_48hpf_fish2/20220316_Zebrafish_atlas_48h_fish2_section9_200x134_Att35_7um',\n",
    "    # 'Atlas_48hpf_fish2/20220316_Zebrafish_atlas_48h_fish2_section17_405x145_Att35_7um',\n",
    "    # 'Atlas_48hpf_fish2/20220328_Zebrafish_atlas_48h_fish2_section14_323x144_Att35_7um',\n",
    "    # 'Atlas_48hpf_fish2/20220316_Zebrafish_atlas_48h_fish2_section13_305x127_Att35_7um',\n",
    "    # 'Atlas_48hpf_fish2/20220314_Zebrafish_atlas_48h_fish2_section22_385x142_Att35_7um',\n",
    "    \n",
    "  \n",
    "    # --------- fish 1: 72h --------- #\n",
    "    #'Atlas_72h/20220529_Zebrafish_atlas_72h_fish1_section22_423x142_Att35_7um',\n",
    "    #'Atlas_72h/20220529_Zebrafish_atlas_72h_fish1_section35_271x137_Att35_7um',\n",
    "    #'Atlas_72h/20220604_Zebrafish_atlas_72h_section26_413x132_Att35_7um',\n",
    "    #'Atlas_72h/20220604_Zebrafish_atlas_72h_section33_292x143_Att35_7um',\n",
    "    #'Atlas_72h/20220614_Zebrafish_atlas_72h_section_31_343x124_Att35_7um',\n",
    "    \n",
    "    # --------- fish 2: 72h --------- #\n",
    "    '20220620_Zebrafish_atlas_72hpf_fish2_section22_420x142_Att35_7um',\n",
    "    '20220620_Zebrafish_atlas_72hpf_fish2_section26_345x136_Att35_7um',\n",
    "    # 'Atlas_72h_fish2/20220621_Zebrafish_atlas_72hpf_fish2_section_20_481x136_Att35_7um',\n",
    "    '20220621_Zebrafish_atlas_72hpf_fish2_section24_422x135_Att35_7um',\n",
    "    # 'Atlas_72h_fish2/20220701_Zebrafish_atlas_72hpf_fish2_section_14_407x132_Att35_7um',\n",
    "    # 'Atlas_72h_fish2/20220701_Zebrafish_atlas_72hpf_fish2_section_16_420x124_Att35_7um',\n",
    "    # 'Atlas_72h_fish2/20220702_Zebrafish_atlas_72hpf_fish2_section_32_170x108_Att35_7um',\n",
    "    \n",
    "]"
   ]
  },
  {
   "cell_type": "code",
   "execution_count": 3,
   "metadata": {},
   "outputs": [],
   "source": [
    "NAME_FOLDER = '07082023_alltimepoints_selectsections'\n",
    "PATH_DATA = f'/data/SV_DAngelo/Hannah/processedData/zebrafish/mutiple_timepoints/{NAME_FOLDER}'\n",
    "PATH_MASKS = '/data/SV_DAngelo/Hannah/zebrafish_masks'"
   ]
  },
  {
   "cell_type": "code",
   "execution_count": 4,
   "metadata": {},
   "outputs": [
    {
     "name": "stderr",
     "output_type": "stream",
     "text": [
      "Loading Data...: 554it [02:32,  3.63it/s]"
     ]
    },
    {
     "name": "stdout",
     "output_type": "stream",
     "text": [
      "Data Loaded Successfully.\n"
     ]
    },
    {
     "name": "stderr",
     "output_type": "stream",
     "text": [
      "\n"
     ]
    }
   ],
   "source": [
    "x, masks = MAIA.utils.tools.read_images_masks(acquisitions,\n",
    "                                        path_images=PATH_DATA, path_masks=PATH_MASKS,\n",
    "                                        gaussian_smoothing=True, gaussian_sigma=0.3,\n",
    "                                        log_transform=True, epsilon=0.0002\n",
    "                                       )"
   ]
  },
  {
   "cell_type": "code",
   "execution_count": 8,
   "metadata": {},
   "outputs": [
    {
     "data": {
      "image/png": "[encoded data removed]",
      "text/plain": [
       "<Figure size 800x800 with 11 Axes>"
      ]
     },
     "metadata": {},
     "output_type": "display_data"
    }
   ],
   "source": [
    "MAIA.vis.plot_intensity(x, masks, v=1, mz_val=1039.574)"
   ]
  },
  {
   "cell_type": "markdown",
   "metadata": {},
   "source": [
    "We can model the MALDI-MSI data intensities’ histogram as a gaussian mixture model and approximate the true foreground distribution, where the non-biological batch effects have been taken into account. To normalize the data, MAIA uses the following graphical model to address the batch effects.\n",
    "\n",
    "<div>\n",
    "<center>\n",
    "<img src=\"figs/MAIA_PGM.png\" width=\"800\">\n",
    "</center>\n",
    "</div>"
   ]
  },
  {
   "cell_type": "markdown",
   "metadata": {},
   "source": [
    "To initialize the SVI, we simply fit a GMM on the cumulative distribution of each molecule. We use BIC metric to choose whether a unimodal or bimodal gaussian distribution would fit the best on the intensities. It's also possible to intialize the required parameters manually and save them in a dictionary to pass for the normalization method."
   ]
  },
  {
   "cell_type": "code",
   "execution_count": 10,
   "metadata": {},
   "outputs": [
    {
     "name": "stderr",
     "output_type": "stream",
     "text": [
      "GMM Initialization: 100%|██████████| 554/554 [00:19<00:00, 28.30it/s]\n",
      "2023-09-11 17:59:42.636605: W external/xla/xla/service/gpu/nvptx_compiler.cc:698] The NVIDIA driver's CUDA version is 12.1 which is older than the ptxas CUDA version (12.2.128). Because the driver is older than the ptxas version, XLA is disabling parallel compilation, which may slow down compilation. You should update your NVIDIA driver or use the NVIDIA-provided CUDA forward compatibility packages.\n"
     ]
    }
   ],
   "source": [
    "init_state = MAIA.norm.initialize(x, masks, visualize=False, subsample=True)"
   ]
  },
  {
   "cell_type": "code",
   "execution_count": 15,
   "metadata": {},
   "outputs": [
    {
     "name": "stderr",
     "output_type": "stream",
     "text": [
      "100%|██████████| 5000/5000 [00:07<00:00, 666.19it/s, init loss: 17003964.0000, avg. loss [4751-5000]: -936195.5000]\n"
     ]
    }
   ],
   "source": [
    "svi_result = MAIA.norm.normalize(x, \n",
    "                              masks,\n",
    "                              init_state=init_state,\n",
    "                              subsample=True,\n",
    "                              optimizer=None,\n",
    "                              num_steps=5000,\n",
    "                              seed=42)"
   ]
  },
  {
   "cell_type": "markdown",
   "metadata": {},
   "source": [
    "After normalization, you can save the parameters of interest using the utils module for further analysis."
   ]
  },
  {
   "cell_type": "code",
   "execution_count": 16,
   "metadata": {},
   "outputs": [
    {
     "data": {
      "text/plain": [
       "numpyro.infer.svi.SVIRunResult"
      ]
     },
     "execution_count": 16,
     "metadata": {},
     "output_type": "execute_result"
    }
   ],
   "source": [
    "SAVE_PATH = f'/home/alireza/parameters/{NAME_FOLDER}'\n",
    "MAIA.ut.tools.save_svi(svi_result, SAVE_PATH)"
   ]
  },
  {
   "cell_type": "markdown",
   "metadata": {},
   "source": [
    "Afterwards, you can transform your data to get the MAIA normalized MALDI-MSI data and preform future downstream analysis."
   ]
  },
  {
   "cell_type": "code",
   "execution_count": null,
   "metadata": {},
   "outputs": [],
   "source": [
    "x_tran = MAIA.norm.transform(x, mask, svi_result)"
   ]
  }
 ],
 "metadata": {
  "kernelspec": {
   "display_name": "Python 3 (ipykernel)",
   "language": "python",
   "name": "python3"
  },
  "language_info": {
   "codemirror_mode": {
    "name": "ipython",
    "version": 3
   },
   "file_extension": ".py",
   "mimetype": "text/x-python",
   "name": "python",
   "nbconvert_exporter": "python",
   "pygments_lexer": "ipython3",
   "version": "3.11.4"
  }
 },
 "nbformat": 4,
 "nbformat_minor": 2
}
