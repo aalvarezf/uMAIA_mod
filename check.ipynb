{
 "cells": [
  {
   "cell_type": "code",
   "execution_count": 1,
   "id": "7c7ef298",
   "metadata": {},
   "outputs": [
    {
     "name": "stdout",
     "output_type": "stream",
     "text": [
      "Name: numba\n",
      "Version: 0.57.1\n",
      "Summary: compiling Python code using LLVM\n",
      "Home-page: https://numba.pydata.org\n",
      "Author: \n",
      "Author-email: \n",
      "License: BSD\n",
      "Location: /home/alireza/miniconda3/envs/w_env/lib/python3.11/site-packages\n",
      "Requires: llvmlite, numpy\n",
      "Required-by: \n",
      "Note: you may need to restart the kernel to use updated packages.\n"
     ]
    }
   ],
   "source": [
    "pip show numba"
   ]
  },
  {
   "cell_type": "code",
   "execution_count": 2,
   "id": "6eca4873",
   "metadata": {},
   "outputs": [
    {
     "name": "stdout",
     "output_type": "stream",
     "text": [
      "Name: numpy\n",
      "Version: 1.23.0\n",
      "Summary: NumPy is the fundamental package for array computing with Python.\n",
      "Home-page: https://www.numpy.org\n",
      "Author: Travis E. Oliphant et al.\n",
      "Author-email: \n",
      "License: BSD\n",
      "Location: /home/alireza/miniconda3/envs/w_env/lib/python3.11/site-packages\n",
      "Requires: \n",
      "Required-by: anndata, chex, contourpy, funsor, h5py, jax, jaxlib, matplotlib, ml-dtypes, numba, numcodecs, numpyro, opencv-python, opt-einsum, optax, pandas, pyimzML, pymzml, pyro-ppl, scikit-learn, scipy, seaborn, zarr\n",
      "Note: you may need to restart the kernel to use updated packages.\n"
     ]
    }
   ],
   "source": [
    "pip show numpy"
   ]
  },
  {
   "cell_type": "code",
   "execution_count": 3,
   "id": "f0e9ed3d",
   "metadata": {},
   "outputs": [
    {
     "name": "stdout",
     "output_type": "stream",
     "text": [
      "Name: jaxlib\n",
      "Version: 0.4.14+cuda12.cudnn89\n",
      "Summary: XLA library for JAX\n",
      "Home-page: https://github.com/google/jax\n",
      "Author: JAX team\n",
      "Author-email: jax-dev@google.com\n",
      "License: Apache-2.0\n",
      "Location: /home/alireza/miniconda3/envs/w_env/lib/python3.11/site-packages\n",
      "Requires: ml-dtypes, numpy, scipy\n",
      "Required-by: chex, numpyro, optax\n",
      "Note: you may need to restart the kernel to use updated packages.\n"
     ]
    }
   ],
   "source": [
    "pip show jaxlib"
   ]
  },
  {
   "cell_type": "code",
   "execution_count": 4,
   "id": "b1420ec8",
   "metadata": {},
   "outputs": [
    {
     "name": "stdout",
     "output_type": "stream",
     "text": [
      "# conda environments:\r\n",
      "#\r\n",
      "base                     /home/alireza/miniconda3\r\n",
      "lipidatlas               /home/alireza/miniconda3/envs/lipidatlas\r\n",
      "myenv                    /home/alireza/miniconda3/envs/myenv\r\n",
      "w_env                 *  /home/alireza/miniconda3/envs/w_env\r\n",
      "\r\n"
     ]
    }
   ],
   "source": [
    "!conda env list"
   ]
  },
  {
   "cell_type": "code",
   "execution_count": 5,
   "id": "f8f87458",
   "metadata": {},
   "outputs": [],
   "source": [
    "import src as MAIA\n",
    "import numpy as np\n",
    "import warnings\n",
    "warnings.filterwarnings(\"ignore\")\n",
    "import matplotlib.pyplot as plt\n",
    "import os"
   ]
  },
  {
   "cell_type": "code",
   "execution_count": 6,
   "id": "547e3b51",
   "metadata": {},
   "outputs": [
    {
     "name": "stderr",
     "output_type": "stream",
     "text": [
      "Loading Spectra at resolution 0.0001: 100%|███████████████████████████████| 100/100 [00:00<00:00, 235.56it/s]\n",
      "Loading the m/z values at resolution 0.0001: 100it [00:00, 7728.59it/s]\n"
     ]
    }
   ],
   "source": [
    "section = '8hpf/20230639_Zebrafish_ctrl_cl5_8hpf_section_9_167x182_Att35_5um'\n",
    "\n",
    "path = '/data/SV_DAngelo/Leila/MALDI-MSI/MAIA_zebrafish/Atlases/Controls_timepoints/'\n",
    "\n",
    "smz = MAIA.utils.SmzMLobj(f'{path+section}/{section[5:]}.IBD',\n",
    "               f'{path+section}/{section[5:]}.imzml',\n",
    "               mz_resolution=10e-5, selected_pixels=(0,100)) #for section in sections]\n",
    "       \n",
    "smz.load(load_unique_mz=True)"
   ]
  },
  {
   "cell_type": "code",
   "execution_count": 7,
   "id": "35067398",
   "metadata": {},
   "outputs": [],
   "source": [
    "mz_resolution = 0.0001\n",
    "threshold_count = 8.\n",
    "approximate_interval =1.5\n",
    "smoothing = 1. #2.5"
   ]
  },
  {
   "cell_type": "code",
   "execution_count": 8,
   "id": "6fa683f2",
   "metadata": {},
   "outputs": [
    {
     "name": "stderr",
     "output_type": "stream",
     "text": [
      "100it [00:00, 160.13it/s]\n"
     ]
    },
    {
     "name": "stdout",
     "output_type": "stream",
     "text": [
      "Partioning m/z space and beginning peakcalling...\n"
     ]
    },
    {
     "name": "stderr",
     "output_type": "stream",
     "text": [
      "100%|██████████████████████████████████████████████████████████████████████| 107/107 [00:11<00:00,  9.07it/s]\n"
     ]
    },
    {
     "name": "stdout",
     "output_type": "stream",
     "text": [
      "Creating dataframe...\n"
     ]
    },
    {
     "name": "stderr",
     "output_type": "stream",
     "text": [
      "100%|██████████████████████████████████████████████████████████████████| 1426/1426 [00:00<00:00, 1561.36it/s]\n"
     ]
    },
    {
     "name": "stdout",
     "output_type": "stream",
     "text": [
      "DataFrame created successfully\n",
      "Removing temporary storage\n",
      "Saving images...\n"
     ]
    },
    {
     "name": "stderr",
     "output_type": "stream",
     "text": [
      "100%|███████████████████████████████████████████████████████████████████| 1411/1411 [00:10<00:00, 132.84it/s]\n"
     ]
    },
    {
     "name": "stdout",
     "output_type": "stream",
     "text": [
      "Complete\n"
     ]
    }
   ],
   "source": [
    "MAIA.pf.run(directory_path=f'{path}{section}/CHECK/',\n",
    "                smz=smz, spectrum_range=(400,1200), threshold_count=threshold_count, \n",
    "                approximate_interval=approximate_interval, parallelize=True, smoothing=smoothing, saveimages=True)"
   ]
  },
  {
   "cell_type": "code",
   "execution_count": 9,
   "id": "bf0291ea",
   "metadata": {},
   "outputs": [],
   "source": [
    "import re\n",
    "import zarr\n",
    "import tqdm\n",
    "from scipy.ndimage import gaussian_filter"
   ]
  },
  {
   "cell_type": "code",
   "execution_count": 10,
   "id": "98a83ecd",
   "metadata": {},
   "outputs": [],
   "source": [
    "reg_size = '\\d{1,4}[x,X]{1}\\d{1,4}'\n",
    "\n",
    "# developmental timepoints 8/24/48/72\n",
    "# developmental timepoints 48,72\n",
    "acquisitions=[\n",
    "    \n",
    "    # fish 1 8h\n",
    "#     'Atlas_8hpf1/20221014_Zebrafish_8hpf_fish1_section30_215x230_Att35_5um',\n",
    "#     'Atlas_8hpf1/20221013_Zebrafish_8hpf_fish1_section28_214x214_Att35_5um',\n",
    "    #'Atlas_8hpf1/20221010_Zebrafish_8hpf_fish1_section23_192x202_Att35_5um',\n",
    "    '20221008_Zebrafish_8hpf_fish1_section18_194x170_Att35_5um',\n",
    "    '20221002_Zebrafish_8hpf_fish1_section_16_192x190_Att35_5um',\n",
    "    '20221002_Zebrafish_8hpf_fish1_section_14_154x148_Att35_5um',\n",
    "    #'Atlas_8hpf1/20221001_Zebrafish_8hpf_fish1_section_10_154x142_Att35_5um',\n",
    "    \n",
    "    # fish 2 8h\n",
    "    #'Atlas_8hpf2/20221008_Zebrafish_8hpf_fish2_section9_130x134_Att35_5um',\n",
    "    #'Atlas_8hpf2/20221003_Zebrafish_8hpf_fish2_section_7_140x122_Att35_5um',\n",
    "    \n",
    "    \n",
    "    # fish 1 24h\n",
    "#     'Atlas_24h/20220408_Zebrafish_atlas_24h_fish1_section17_175x155_Att35_7um',\n",
    "    #'Atlas_24h/20220407_Zebrafish_atlas_24h_fish1_section30_167x134_Att35_7um',\n",
    "    '20220407_Zebrafish_atlas_24h_fish1_section28_131x124_Att35_7um',\n",
    "    '20220407_Zebrafish_atlas_24h_fish1_section26_141x140_Att35_7um',\n",
    "    '20220406_Zebrafish_atlas_24h_fish1_section24_140x145_Att35_7um',\n",
    "#     'Atlas_24h/20220405_Zebrafish_atlas_24h_fish1_section20_157x142_Att35_7um',\n",
    "    #'Atlas_24h/20220406_Zebrafish_atlas_24h_fish1_section22_151x150_Att35_7um',\n",
    "    #'Atlas_24h/20220402_Zebrafish_atlas_24h_fish1_section16_228x154_Att35_7um',\n",
    "    \n",
    "    # fish 2 24h\n",
    "    #'Atlas_24h/20220928_Zebrafish_atlas_24hpf_fish2_section26_256x126_Att35_7um',\n",
    "    #'Atlas_24h/20220927_Zebrafish_atlas_24hpf_fish2_section18_284x125_Att35_7um',\n",
    "    #'Atlas_24h/20220927_Zebrafish_atlas_24hpf_fish2_section10_141x128_Att35_7um',\n",
    "    #'Atlas_24h/20220926_Zebrafish_atlas_24hpf_fish2_section2_131x124_Att35_7um',\n",
    "    # fish 1 48h\n",
    "    #'Atlas_48h/11022022_Zebrafish_atlas_section19_Att35_353x141_7um',\n",
    "    #'Atlas_48h/20022022_Zebrafish_atlas_section23_313x107_Att35_7um',\n",
    "    #'Atlas_48h/20022022_Zebrafish_atlas_section25_334x110_Att35_7um',\n",
    "    \n",
    "    # fish 2 48h\n",
    "    '20220928_Zebrafish_atlas_48hpf_fish3_section18_332x133_Att35_7um',\n",
    "#     'Atlas_48hpf_fish2/20220330_Zebrafish_atlas_48h_fish2_section29_150x114_Att35_7um',\n",
    "    '20220329_Zebrafish_atlas_48h_fish2_section24_377x145_Att35_7um',\n",
    "#     'Atlas_48hpf_fish2/20220328_Zebrafish_atlas_48h_fish2_section26_200x135_Att35_7um',\n",
    "    #'Atlas_48hpf_fish2/20220316_Zebrafish_atlas_48h_fish2_section9_200x134_Att35_7um',\n",
    "    #'Atlas_48hpf_fish2/20220316_Zebrafish_atlas_48h_fish2_section17_405x145_Att35_7um',\n",
    "    #'Atlas_48hpf_fish2/20220328_Zebrafish_atlas_48h_fish2_section14_323x144_Att35_7um',\n",
    "    #'Atlas_48hpf_fish2/20220316_Zebrafish_atlas_48h_fish2_section13_305x127_Att35_7um',\n",
    "    #'Atlas_48hpf_fish2/20220314_Zebrafish_atlas_48h_fish2_section22_385x142_Att35_7um',\n",
    "    \n",
    "  \n",
    "    # fish 1 72\n",
    "    #'Atlas_72h/20220529_Zebrafish_atlas_72h_fish1_section22_423x142_Att35_7um',\n",
    "    #'Atlas_72h/20220529_Zebrafish_atlas_72h_fish1_section35_271x137_Att35_7um',\n",
    "    #'Atlas_72h/20220604_Zebrafish_atlas_72h_section26_413x132_Att35_7um',\n",
    "    #'Atlas_72h/20220604_Zebrafish_atlas_72h_section33_292x143_Att35_7um',\n",
    "    #'Atlas_72h/20220614_Zebrafish_atlas_72h_section_31_343x124_Att35_7um',\n",
    "    \n",
    "    # fish 2 72\n",
    "    '20220620_Zebrafish_atlas_72hpf_fish2_section22_420x142_Att35_7um',\n",
    "    '20220620_Zebrafish_atlas_72hpf_fish2_section26_345x136_Att35_7um',\n",
    "#     'Atlas_72h_fish2/20220621_Zebrafish_atlas_72hpf_fish2_section_20_481x136_Att35_7um',\n",
    "    '20220621_Zebrafish_atlas_72hpf_fish2_section24_422x135_Att35_7um',\n",
    "#     'Atlas_72h_fish2/20220701_Zebrafish_atlas_72hpf_fish2_section_14_407x132_Att35_7um',\n",
    "#     'Atlas_72h_fish2/20220701_Zebrafish_atlas_72hpf_fish2_section_16_420x124_Att35_7um',\n",
    "#     'Atlas_72h_fish2/20220702_Zebrafish_atlas_72hpf_fish2_section_32_170x108_Att35_7um',\n",
    "    \n",
    "]\n",
    "\n",
    "    \n",
    "\n",
    "# files = [f'/data/hannah/zebrafish/multiple_timepoints/metadata/{section}/ranges.csv' for section in acquisitions]\n",
    "image_shapes = np.array([re.findall(reg_size, a)[0].lower().split('x') for a in acquisitions], dtype=int)[:,::-1]\n",
    "masks = [np.load(f'/data/SV_DAngelo/Hannah/zebrafish_masks/{section}/mask.npy') for section in acquisitions]\n",
    "mask_ix_list = [np.argwhere(x.flatten()).flatten() for x in masks]"
   ]
  },
  {
   "cell_type": "code",
   "execution_count": 11,
   "id": "b775e4d6",
   "metadata": {},
   "outputs": [],
   "source": [
    "NAME_FOLDER = '07082023_alltimepoints_selectsections'\n",
    "PATH_DATA = f'/data/SV_DAngelo/Hannah/processedData/zebrafish/mutiple_timepoints/{NAME_FOLDER}.zarr'\n",
    "\n",
    "# load data\n",
    "root = zarr.open(PATH_DATA, mode='rb')\n",
    "PATH_MZ = np.sort(list(root.group_keys()))"
   ]
  },
  {
   "cell_type": "code",
   "execution_count": 12,
   "id": "12e4680c",
   "metadata": {},
   "outputs": [
    {
     "name": "stderr",
     "output_type": "stream",
     "text": [
      "554it [00:54, 10.09it/s]\n"
     ]
    }
   ],
   "source": [
    "small_num = 0.0002\n",
    "x = np.ones((np.max([len(np.argwhere(x.flatten()).flatten()) for x in masks]), len(masks), len(PATH_MZ))) * np.log(small_num)\n",
    "\n",
    "mask = np.zeros_like(x, dtype=bool)\n",
    "\n",
    "for i_v, mz in tqdm.tqdm(enumerate(PATH_MZ)): # for a single molecule:\n",
    "\n",
    "    for i_s in range(len(acquisitions)): # for a single molecule across the sections\n",
    "    \n",
    "        try:\n",
    "            image = root[mz][i_s][:]\n",
    "            image = gaussian_filter(image, sigma=0.3)\n",
    "        except:\n",
    "            continue\n",
    "            \n",
    "        if np.sum(image.astype(float)) == 0.0:\n",
    "            print(i_v)\n",
    "            image = np.ones_like(image).astype(float) * np.log(small_num)\n",
    "        else:\n",
    "            image = np.log(np.nan_to_num(image).astype(float) + small_num)\n",
    "\n",
    "            \n",
    "        # extract masked image\n",
    "        img_masked = image.flatten()[mask_ix_list[i_s]]\n",
    "        x[:len(mask_ix_list[i_s]), i_s, i_v] = img_masked\n",
    "        mask[:len(mask_ix_list[i_s]), i_s, i_v] = True"
   ]
  },
  {
   "cell_type": "code",
   "execution_count": 13,
   "id": "2af3e8b6",
   "metadata": {},
   "outputs": [],
   "source": [
    "# always take the first 2000 samples from the list, because there are some sections that have very few datapoints\n",
    "np.random.seed(3)\n",
    "# average_num_pixels = int(np.mean(mask.sum(axis=0)[:,0]))\n",
    "# ix_random = np.random.choice(np.arange(2000, average_num_pixels), size=2000, replace=False)\n",
    "# ix_random = np.append(np.arange(500), ix_random)\n",
    "\n",
    "# x = x[ix_random,:,:]\n",
    "# mask = mask[ix_random,:,:]\n",
    "\n",
    "N, S, V = x.shape\n",
    "SN = np.array([len(x) for x in mask_ix_list])[-12:]"
   ]
  },
  {
   "cell_type": "code",
   "execution_count": 14,
   "id": "09cce850",
   "metadata": {},
   "outputs": [
    {
     "data": {
      "image/png": "[encoded data removed]",
      "text/plain": [
       "<Figure size 800x800 with 11 Axes>"
      ]
     },
     "metadata": {},
     "output_type": "display_data"
    }
   ],
   "source": [
    "fig = plt.figure(None,(8,8), dpi=100)\n",
    "gs = plt.GridSpec(6,5)\n",
    "  \n",
    "v = 7\n",
    "\n",
    "def place_image(mask_list, tranformed_values, v, s, small_num):\n",
    "    img = np.zeros(mask_list[s].shape).flatten()\n",
    "    img[mask_list[s].flatten()] = np.exp(tranformed_values[:np.sum(mask_list[s]),s,v]) - small_num\n",
    "    return img.reshape(mask_list[s].shape)\n",
    "\n",
    "\n",
    "cm = plt.cm.get_cmap('bwr')\n",
    "xmin, xmax = np.percentile(x[:,:,v][mask[:,:,v]], (0.1, 99.90))\n",
    "xnew = np.linspace(xmin, xmax, 50)\n",
    "vmax = np.exp(np.percentile(x[:,:,v][mask[:,:,v]], 99.9)) - small_num\n",
    "\n",
    "for i, s in enumerate(range(S)):\n",
    "    plt.subplot(gs[i])\n",
    "    n, bins, patches = plt.hist(x[:,s,v][mask[:,s,v]], bins=xnew,\n",
    "                                color=\"gray\", alpha=0.6, density=True, edgecolor='w')\n",
    "    plt.ylim([0,2])\n",
    "\n",
    "    if i == 0:\n",
    "        plt.ylabel('density')\n",
    "    plt.xlabel('intensity')\n",
    "    \n",
    "plt.suptitle(np.array([float(x.split('/')[-1]) for x in PATH_MZ])[v])\n",
    "\n",
    "plt.show()"
   ]
  },
  {
   "cell_type": "code",
   "execution_count": 15,
   "id": "986a56a6",
   "metadata": {},
   "outputs": [
    {
     "name": "stderr",
     "output_type": "stream",
     "text": [
      "GMM Initialization: 100%|██████████████████████████████████████████████████| 554/554 [00:19<00:00, 28.27it/s]\n",
      "2023-09-08 11:23:59.230270: W external/xla/xla/service/gpu/nvptx_compiler.cc:698] The NVIDIA driver's CUDA version is 12.1 which is older than the ptxas CUDA version (12.2.140). Because the driver is older than the ptxas version, XLA is disabling parallel compilation, which may slow down compilation. You should update your NVIDIA driver or use the NVIDIA-provided CUDA forward compatibility packages.\n",
      "100%|████| 5000/5000 [00:08<00:00, 612.40it/s, init loss: 16922638.0000, avg. loss [4751-5000]: -907642.8125]\n"
     ]
    },
    {
     "name": "stdout",
     "output_type": "stream",
     "text": [
      "SVI completed successfully!\n"
     ]
    }
   ],
   "source": [
    "init_state = MAIA.norm.initialize(x, mask, visualize=False, subsample=True)\n",
    "\n",
    "svi_result = MAIA.norm.normalize(x, \n",
    "                              mask,\n",
    "                              init_state=init_state,\n",
    "                              subsample=True,\n",
    "                              optimizer=None,\n",
    "                              num_steps=5000,\n",
    "                              seed=42)\n",
    "print('SVI completed successfully!')\n",
    "x_tran = MAIA.norm.transform(x, mask, svi_result)"
   ]
  },
  {
   "cell_type": "code",
   "execution_count": 16,
   "id": "1269e349",
   "metadata": {},
   "outputs": [
    {
     "data": {
      "text/plain": [
       "(16503, 11, 554)"
      ]
     },
     "execution_count": 16,
     "metadata": {},
     "output_type": "execute_result"
    }
   ],
   "source": [
    "x_tran.shape"
   ]
  }
 ],
 "metadata": {
  "kernelspec": {
   "display_name": "Python 3 (ipykernel)",
   "language": "python",
   "name": "python3"
  },
  "language_info": {
   "codemirror_mode": {
    "name": "ipython",
    "version": 3
   },
   "file_extension": ".py",
   "mimetype": "text/x-python",
   "name": "python",
   "nbconvert_exporter": "python",
   "pygments_lexer": "ipython3",
   "version": "3.11.4"
  }
 },
 "nbformat": 4,
 "nbformat_minor": 5
}
